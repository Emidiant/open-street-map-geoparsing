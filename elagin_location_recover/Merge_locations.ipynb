{
 "cells": [
  {
   "cell_type": "markdown",
   "metadata": {},
   "source": [
    "# Объединение локаций из Instagram и OSM"
   ]
  },
  {
   "cell_type": "code",
   "execution_count": 77,
   "metadata": {
    "ExecuteTime": {
     "start_time": "2023-05-01T00:38:43.281624Z",
     "end_time": "2023-05-01T00:38:43.326135Z"
    }
   },
   "outputs": [],
   "source": [
    "import pandas as pd\n",
    "from sklearn.feature_extraction.text import TfidfVectorizer\n",
    "import seaborn as sns\n",
    "from sklearn.metrics.pairwise import cosine_similarity\n",
    "\n",
    "import matplotlib.pyplot as plt"
   ]
  },
  {
   "cell_type": "code",
   "execution_count": 94,
   "metadata": {
    "ExecuteTime": {
     "start_time": "2023-05-01T00:46:13.050157Z",
     "end_time": "2023-05-01T00:46:13.074711Z"
    }
   },
   "outputs": [],
   "source": [
    "df_location_osm = pd.read_csv(\"../csv/locations/locations_geo.csv\")\n",
    "df_location_inst = pd.read_csv(\"../csv/locations/locations_inst_geo.csv\")"
   ]
  },
  {
   "cell_type": "code",
   "execution_count": 95,
   "metadata": {
    "ExecuteTime": {
     "start_time": "2023-05-01T00:46:13.572914Z",
     "end_time": "2023-05-01T00:46:13.589078Z"
    }
   },
   "outputs": [
    {
     "data": {
      "text/plain": "                   id                                               info  \\\n0     node/1269595927  скульптура Материал, дерево Старик произведени...   \n1     node/2181181342                       Музей художественного стекла   \n2     node/3761709953     статуя Лев произведение искусства Исторический   \n3     node/3761709956                               Летнее кафе Удобство   \n4     node/6742144166               информация, карта размер карты, сайт   \n5     node/6750344125                               естественный, дерево   \n6     node/6905536550                      статуя произведение искусства   \n7      node/300951745  Западная стрелка Елагина острова естественный,...   \n8     node/1157617458                       водный путь, запорные ворота   \n9     node/2022962538      На Елагином Удобство, кафе Кухня, итальянская   \n10    node/2023035096  Медпункт Удобство, врачи Чрезвычайная ситуация...   \n11    node/4353795089              Первая чебуречная удобство, фаст -фуд   \n12    node/4353822789                              Исторический мемориал   \n13    node/5682734721  удобство, велосипедная парковка Велосипедная п...   \n14    node/6067907985                                   детская площадка   \n15    node/6784849750                                     Магазин, билет   \n16    node/6896052609                                       Барьер, вход   \n17   relation/1444351                              Кухонный корпус музей   \n18   relation/1445800  Центральный парк культуры и отдыха имени С. М....   \n19   relation/1576175                                      Средняя Невка   \n20   relation/1576343                                      Елагин остров   \n21   relation/2420060                            Конюшенный корпус музей   \n22   relation/2590123                                  Восточная стрелка   \n23   relation/2590124                                Павильон под флагом   \n24   relation/2618604                               Музыкальный павильон   \n25   relation/2965059  памятник природы «Елагин остров» природный зап...   \n26   relation/3290102                                       Зелёный пляж   \n27   relation/8613894                                   Елагинские пруды   \n28  relation/12316492                                 Гранитная пристань   \n29       way/23150126                                Оранжерейный корпус   \n30       way/98992606  Большая площадь Зимой это каток Спорт, мульти ...   \n31      way/100146903                                       Масляный луг   \n32      way/100816815                              Остров Удобство, кафе   \n33      way/100820382                           Фрейлинский корпус музей   \n34      way/100821442                                Нота Удобство, кафе   \n35      way/100822197  Павильон «Гаупвахта» что здание было сгорел в ...   \n36      way/101337196                         зоопарк общий Мини зоопарк   \n37      way/101377779                                  Вальер с воронами   \n38      way/101500088                     спортивный центр Спорт, теннис   \n39      way/110109811                              Радуга Удобство, кафе   \n40      way/111429666                                     Открытая сцена   \n41      way/111636419  спортивный центр Прокат спорт инвентаря Спорт,...   \n42      way/119581892                                    Спорт, волейбол   \n43      way/144643400  Каток с искуственным льдом спорт, настольный т...   \n44      way/144643402               Роллердром Спорт, катание на роликах   \n45      way/181423909                           Дом садовника Бука музей   \n46      way/181423910                           Кавалерский корпус музей   \n47      way/181423911                            Каменные кладовые музей   \n48      way/191723415  Прокат финских саней спортивный центр Спорт, к...   \n49      way/699822919  База проката лодок и катамаранов удобство, про...   \n50      way/717881701                    Елагин дворец Елагинский дворец   \n51      way/717885288  Эстрадный театр Удобство, театр Театр, открыты...   \n52      way/736544124                                          колоннада   \n53      way/960193788                                  Спорт, тренировка   \n54      way/111423056                                Сезонный обезьянник   \n55      way/369563617                                        Елагин мост   \n56       way/78518204                                      Большая Невка   \n\n                                              info_en  \\\n0        sculpture material, tree old man work of art   \n1                                 Museum of Art Glass   \n2                  statue lion work of art historical   \n3                             Summer cafe convenience   \n4                        Information, card size, site   \n5                                       Natural, tree   \n6                                  Statue work of art   \n7     Western arrow Yelagin is a natural island, rock   \n8                            waterway, shut off gates   \n9       Yelagin is convenience, cafe kitchen, Italian   \n10  Medical center convenience, doctors Emergency ...   \n11             First Cheburery convenience, fast food   \n12                         \"Historical Memorial Bust\"   \n13  Convenience, bicycle parking bicycle parking, ...   \n14                                         playground   \n15                                       Shop, ticket   \n16                                  Barrier, entrance   \n17                            Kitchen building museum   \n18                                 Kirov Central Park   \n19                                       Middle Nevka   \n20                                     Yelagin island   \n21                  The stable building of the museum   \n22                                      Eastern arrow   \n23                            Pavilion under the flag   \n24                                   Musical pavilion   \n25   Nature Monument \"Yelagin Island\" Natural Reserve   \n26                                        Green beach   \n27                                   Yelaginsky ponds   \n28                                     Granite marina   \n29                                        Orange case   \n30               Large area in winter is a sport rink   \n31                                         Oil meadow   \n32                           Island convenience, cafe   \n33                               Freilin Corps Museum   \n34                             Note convenience, cafe   \n35  The Gaupvakht pavilion that the building was b...   \n36                               Zoo General Mini Zoo   \n37                                  Valier with crows   \n38                       Sports Center Sports, tennis   \n39                          Rainbow convenience, cafe   \n40                                         Open scene   \n41          Sports Center Sports Sports Sports, Multi   \n42                                  Sport, volleyball   \n43                                       table tennis   \n44                 Rollerdrome Sports, Roller skating   \n45                       House of Gardener Buk Museum   \n46                              Cavalier Corps Museum   \n47                                Stone pantry museum   \n48    Finnish sled rent sports center Sports, skating   \n49  Base of rolled boats and catamarans convenienc...   \n50                                     Yelagin Palace   \n51  Variety Theater convenience, theater theater, ...   \n52                                        in a column   \n53                                   Sports, training   \n54                                    Seasonal monkey   \n55                                      Elagin Bridge   \n56                                          Big Nevka   \n\n                                   instagram_location        lon        lat  \n0                                                  []  30.268740  59.978465  \n1                                         [282917579]  30.268557  59.980350  \n2                                                  []  30.269520  59.979386  \n3                                                  []  30.269979  59.977516  \n4                                                  []  30.269894  59.977468  \n5                                                  []  30.271168  59.979579  \n6                                                  []  30.269010  59.979954  \n7                                                  []  30.236411  59.980255  \n8                                                  []  30.271302  59.981290  \n9                                                  []  30.265328  59.980026  \n10                                                 []  30.263528  59.980340  \n11                                                 []  30.253777  59.979234  \n12                                                 []  30.258033  59.976481  \n13                                                 []  30.263654  59.980817  \n14                                                 []  30.245273  59.980215  \n15                                                 []  30.264678  59.977033  \n16                                                 []  30.260557  59.977609  \n17                                                 []  30.268534  59.979840  \n18  [222700471, 863526681, 41686281, 1021905073, 2...  30.257827  59.979013  \n19                                                 []  30.267030  59.975651  \n20  [1013575390, 222700471, 2155261351463141, 5549...  30.257827  59.979013  \n21                                                 []  30.265079  59.980087  \n22                                                 []  30.273540  59.980717  \n23                                                 []  30.273254  59.980666  \n24                                                 []  30.268612  59.976662  \n25  [1013575390, 222700471, 2155261351463141, 5549...  30.257797  59.978986  \n26                                                 []  30.246706  59.978855  \n27                                                 []  59.980697  30.241434  \n28                                 [1025264561000150]  30.273766  59.980755  \n29                                                 []  30.268405  59.980285  \n30                                  [348844899022089]  30.266350  59.980854  \n31                 [364704557468064, 269241190453949]  30.267399  59.979642  \n32                                                 []  30.260452  59.977774  \n33                                                 []  30.262655  59.980286  \n34                                                 []  30.254247  59.980753  \n35                                                 []  30.269549  59.977455  \n36                                                 []  30.246859  59.979995  \n37                                                 []  30.260362  59.977539  \n38                                  [331443764105508]  30.261149  59.981844  \n39                                                 []  30.255468  59.977510  \n40                                  [564635850627512]  30.266385  59.981079  \n41                                  [569761120142629]  30.265017  59.980751  \n42                                  [569761120142629]  30.259362  59.981493  \n43                 [348844899022089, 331443764105508]  30.253425  59.980275  \n44                                                 []  30.252830  59.980391  \n45                                                 []  30.267360  59.981235  \n46                                                 []  30.263574  59.980771  \n47                                                 []  30.263563  59.980321  \n48                                  [348844899022089]  30.249427  59.980764  \n49                                                 []  30.264222  59.977009  \n50                             [409442830, 512235225]  30.270053  59.979333  \n51                 [315983638957570, 173249823604802]  30.257759  59.980390  \n52                                                 []  30.265104  59.979845  \n53                                  [569761120142629]  30.246373  59.979251  \n54                                                 []  30.255674  59.978302  \n55                                                 []  30.271602  59.977485  \n56                                                 []  30.283732  59.982349  ",
      "text/html": "<div>\n<style scoped>\n    .dataframe tbody tr th:only-of-type {\n        vertical-align: middle;\n    }\n\n    .dataframe tbody tr th {\n        vertical-align: top;\n    }\n\n    .dataframe thead th {\n        text-align: right;\n    }\n</style>\n<table border=\"1\" class=\"dataframe\">\n  <thead>\n    <tr style=\"text-align: right;\">\n      <th></th>\n      <th>id</th>\n      <th>info</th>\n      <th>info_en</th>\n      <th>instagram_location</th>\n      <th>lon</th>\n      <th>lat</th>\n    </tr>\n  </thead>\n  <tbody>\n    <tr>\n      <th>0</th>\n      <td>node/1269595927</td>\n      <td>скульптура Материал, дерево Старик произведени...</td>\n      <td>sculpture material, tree old man work of art</td>\n      <td>[]</td>\n      <td>30.268740</td>\n      <td>59.978465</td>\n    </tr>\n    <tr>\n      <th>1</th>\n      <td>node/2181181342</td>\n      <td>Музей художественного стекла</td>\n      <td>Museum of Art Glass</td>\n      <td>[282917579]</td>\n      <td>30.268557</td>\n      <td>59.980350</td>\n    </tr>\n    <tr>\n      <th>2</th>\n      <td>node/3761709953</td>\n      <td>статуя Лев произведение искусства Исторический</td>\n      <td>statue lion work of art historical</td>\n      <td>[]</td>\n      <td>30.269520</td>\n      <td>59.979386</td>\n    </tr>\n    <tr>\n      <th>3</th>\n      <td>node/3761709956</td>\n      <td>Летнее кафе Удобство</td>\n      <td>Summer cafe convenience</td>\n      <td>[]</td>\n      <td>30.269979</td>\n      <td>59.977516</td>\n    </tr>\n    <tr>\n      <th>4</th>\n      <td>node/6742144166</td>\n      <td>информация, карта размер карты, сайт</td>\n      <td>Information, card size, site</td>\n      <td>[]</td>\n      <td>30.269894</td>\n      <td>59.977468</td>\n    </tr>\n    <tr>\n      <th>5</th>\n      <td>node/6750344125</td>\n      <td>естественный, дерево</td>\n      <td>Natural, tree</td>\n      <td>[]</td>\n      <td>30.271168</td>\n      <td>59.979579</td>\n    </tr>\n    <tr>\n      <th>6</th>\n      <td>node/6905536550</td>\n      <td>статуя произведение искусства</td>\n      <td>Statue work of art</td>\n      <td>[]</td>\n      <td>30.269010</td>\n      <td>59.979954</td>\n    </tr>\n    <tr>\n      <th>7</th>\n      <td>node/300951745</td>\n      <td>Западная стрелка Елагина острова естественный,...</td>\n      <td>Western arrow Yelagin is a natural island, rock</td>\n      <td>[]</td>\n      <td>30.236411</td>\n      <td>59.980255</td>\n    </tr>\n    <tr>\n      <th>8</th>\n      <td>node/1157617458</td>\n      <td>водный путь, запорные ворота</td>\n      <td>waterway, shut off gates</td>\n      <td>[]</td>\n      <td>30.271302</td>\n      <td>59.981290</td>\n    </tr>\n    <tr>\n      <th>9</th>\n      <td>node/2022962538</td>\n      <td>На Елагином Удобство, кафе Кухня, итальянская</td>\n      <td>Yelagin is convenience, cafe kitchen, Italian</td>\n      <td>[]</td>\n      <td>30.265328</td>\n      <td>59.980026</td>\n    </tr>\n    <tr>\n      <th>10</th>\n      <td>node/2023035096</td>\n      <td>Медпункт Удобство, врачи Чрезвычайная ситуация...</td>\n      <td>Medical center convenience, doctors Emergency ...</td>\n      <td>[]</td>\n      <td>30.263528</td>\n      <td>59.980340</td>\n    </tr>\n    <tr>\n      <th>11</th>\n      <td>node/4353795089</td>\n      <td>Первая чебуречная удобство, фаст -фуд</td>\n      <td>First Cheburery convenience, fast food</td>\n      <td>[]</td>\n      <td>30.253777</td>\n      <td>59.979234</td>\n    </tr>\n    <tr>\n      <th>12</th>\n      <td>node/4353822789</td>\n      <td>Исторический мемориал</td>\n      <td>\"Historical Memorial Bust\"</td>\n      <td>[]</td>\n      <td>30.258033</td>\n      <td>59.976481</td>\n    </tr>\n    <tr>\n      <th>13</th>\n      <td>node/5682734721</td>\n      <td>удобство, велосипедная парковка Велосипедная п...</td>\n      <td>Convenience, bicycle parking bicycle parking, ...</td>\n      <td>[]</td>\n      <td>30.263654</td>\n      <td>59.980817</td>\n    </tr>\n    <tr>\n      <th>14</th>\n      <td>node/6067907985</td>\n      <td>детская площадка</td>\n      <td>playground</td>\n      <td>[]</td>\n      <td>30.245273</td>\n      <td>59.980215</td>\n    </tr>\n    <tr>\n      <th>15</th>\n      <td>node/6784849750</td>\n      <td>Магазин, билет</td>\n      <td>Shop, ticket</td>\n      <td>[]</td>\n      <td>30.264678</td>\n      <td>59.977033</td>\n    </tr>\n    <tr>\n      <th>16</th>\n      <td>node/6896052609</td>\n      <td>Барьер, вход</td>\n      <td>Barrier, entrance</td>\n      <td>[]</td>\n      <td>30.260557</td>\n      <td>59.977609</td>\n    </tr>\n    <tr>\n      <th>17</th>\n      <td>relation/1444351</td>\n      <td>Кухонный корпус музей</td>\n      <td>Kitchen building museum</td>\n      <td>[]</td>\n      <td>30.268534</td>\n      <td>59.979840</td>\n    </tr>\n    <tr>\n      <th>18</th>\n      <td>relation/1445800</td>\n      <td>Центральный парк культуры и отдыха имени С. М....</td>\n      <td>Kirov Central Park</td>\n      <td>[222700471, 863526681, 41686281, 1021905073, 2...</td>\n      <td>30.257827</td>\n      <td>59.979013</td>\n    </tr>\n    <tr>\n      <th>19</th>\n      <td>relation/1576175</td>\n      <td>Средняя Невка</td>\n      <td>Middle Nevka</td>\n      <td>[]</td>\n      <td>30.267030</td>\n      <td>59.975651</td>\n    </tr>\n    <tr>\n      <th>20</th>\n      <td>relation/1576343</td>\n      <td>Елагин остров</td>\n      <td>Yelagin island</td>\n      <td>[1013575390, 222700471, 2155261351463141, 5549...</td>\n      <td>30.257827</td>\n      <td>59.979013</td>\n    </tr>\n    <tr>\n      <th>21</th>\n      <td>relation/2420060</td>\n      <td>Конюшенный корпус музей</td>\n      <td>The stable building of the museum</td>\n      <td>[]</td>\n      <td>30.265079</td>\n      <td>59.980087</td>\n    </tr>\n    <tr>\n      <th>22</th>\n      <td>relation/2590123</td>\n      <td>Восточная стрелка</td>\n      <td>Eastern arrow</td>\n      <td>[]</td>\n      <td>30.273540</td>\n      <td>59.980717</td>\n    </tr>\n    <tr>\n      <th>23</th>\n      <td>relation/2590124</td>\n      <td>Павильон под флагом</td>\n      <td>Pavilion under the flag</td>\n      <td>[]</td>\n      <td>30.273254</td>\n      <td>59.980666</td>\n    </tr>\n    <tr>\n      <th>24</th>\n      <td>relation/2618604</td>\n      <td>Музыкальный павильон</td>\n      <td>Musical pavilion</td>\n      <td>[]</td>\n      <td>30.268612</td>\n      <td>59.976662</td>\n    </tr>\n    <tr>\n      <th>25</th>\n      <td>relation/2965059</td>\n      <td>памятник природы «Елагин остров» природный зап...</td>\n      <td>Nature Monument \"Yelagin Island\" Natural Reserve</td>\n      <td>[1013575390, 222700471, 2155261351463141, 5549...</td>\n      <td>30.257797</td>\n      <td>59.978986</td>\n    </tr>\n    <tr>\n      <th>26</th>\n      <td>relation/3290102</td>\n      <td>Зелёный пляж</td>\n      <td>Green beach</td>\n      <td>[]</td>\n      <td>30.246706</td>\n      <td>59.978855</td>\n    </tr>\n    <tr>\n      <th>27</th>\n      <td>relation/8613894</td>\n      <td>Елагинские пруды</td>\n      <td>Yelaginsky ponds</td>\n      <td>[]</td>\n      <td>59.980697</td>\n      <td>30.241434</td>\n    </tr>\n    <tr>\n      <th>28</th>\n      <td>relation/12316492</td>\n      <td>Гранитная пристань</td>\n      <td>Granite marina</td>\n      <td>[1025264561000150]</td>\n      <td>30.273766</td>\n      <td>59.980755</td>\n    </tr>\n    <tr>\n      <th>29</th>\n      <td>way/23150126</td>\n      <td>Оранжерейный корпус</td>\n      <td>Orange case</td>\n      <td>[]</td>\n      <td>30.268405</td>\n      <td>59.980285</td>\n    </tr>\n    <tr>\n      <th>30</th>\n      <td>way/98992606</td>\n      <td>Большая площадь Зимой это каток Спорт, мульти ...</td>\n      <td>Large area in winter is a sport rink</td>\n      <td>[348844899022089]</td>\n      <td>30.266350</td>\n      <td>59.980854</td>\n    </tr>\n    <tr>\n      <th>31</th>\n      <td>way/100146903</td>\n      <td>Масляный луг</td>\n      <td>Oil meadow</td>\n      <td>[364704557468064, 269241190453949]</td>\n      <td>30.267399</td>\n      <td>59.979642</td>\n    </tr>\n    <tr>\n      <th>32</th>\n      <td>way/100816815</td>\n      <td>Остров Удобство, кафе</td>\n      <td>Island convenience, cafe</td>\n      <td>[]</td>\n      <td>30.260452</td>\n      <td>59.977774</td>\n    </tr>\n    <tr>\n      <th>33</th>\n      <td>way/100820382</td>\n      <td>Фрейлинский корпус музей</td>\n      <td>Freilin Corps Museum</td>\n      <td>[]</td>\n      <td>30.262655</td>\n      <td>59.980286</td>\n    </tr>\n    <tr>\n      <th>34</th>\n      <td>way/100821442</td>\n      <td>Нота Удобство, кафе</td>\n      <td>Note convenience, cafe</td>\n      <td>[]</td>\n      <td>30.254247</td>\n      <td>59.980753</td>\n    </tr>\n    <tr>\n      <th>35</th>\n      <td>way/100822197</td>\n      <td>Павильон «Гаупвахта» что здание было сгорел в ...</td>\n      <td>The Gaupvakht pavilion that the building was b...</td>\n      <td>[]</td>\n      <td>30.269549</td>\n      <td>59.977455</td>\n    </tr>\n    <tr>\n      <th>36</th>\n      <td>way/101337196</td>\n      <td>зоопарк общий Мини зоопарк</td>\n      <td>Zoo General Mini Zoo</td>\n      <td>[]</td>\n      <td>30.246859</td>\n      <td>59.979995</td>\n    </tr>\n    <tr>\n      <th>37</th>\n      <td>way/101377779</td>\n      <td>Вальер с воронами</td>\n      <td>Valier with crows</td>\n      <td>[]</td>\n      <td>30.260362</td>\n      <td>59.977539</td>\n    </tr>\n    <tr>\n      <th>38</th>\n      <td>way/101500088</td>\n      <td>спортивный центр Спорт, теннис</td>\n      <td>Sports Center Sports, tennis</td>\n      <td>[331443764105508]</td>\n      <td>30.261149</td>\n      <td>59.981844</td>\n    </tr>\n    <tr>\n      <th>39</th>\n      <td>way/110109811</td>\n      <td>Радуга Удобство, кафе</td>\n      <td>Rainbow convenience, cafe</td>\n      <td>[]</td>\n      <td>30.255468</td>\n      <td>59.977510</td>\n    </tr>\n    <tr>\n      <th>40</th>\n      <td>way/111429666</td>\n      <td>Открытая сцена</td>\n      <td>Open scene</td>\n      <td>[564635850627512]</td>\n      <td>30.266385</td>\n      <td>59.981079</td>\n    </tr>\n    <tr>\n      <th>41</th>\n      <td>way/111636419</td>\n      <td>спортивный центр Прокат спорт инвентаря Спорт,...</td>\n      <td>Sports Center Sports Sports Sports, Multi</td>\n      <td>[569761120142629]</td>\n      <td>30.265017</td>\n      <td>59.980751</td>\n    </tr>\n    <tr>\n      <th>42</th>\n      <td>way/119581892</td>\n      <td>Спорт, волейбол</td>\n      <td>Sport, volleyball</td>\n      <td>[569761120142629]</td>\n      <td>30.259362</td>\n      <td>59.981493</td>\n    </tr>\n    <tr>\n      <th>43</th>\n      <td>way/144643400</td>\n      <td>Каток с искуственным льдом спорт, настольный т...</td>\n      <td>table tennis</td>\n      <td>[348844899022089, 331443764105508]</td>\n      <td>30.253425</td>\n      <td>59.980275</td>\n    </tr>\n    <tr>\n      <th>44</th>\n      <td>way/144643402</td>\n      <td>Роллердром Спорт, катание на роликах</td>\n      <td>Rollerdrome Sports, Roller skating</td>\n      <td>[]</td>\n      <td>30.252830</td>\n      <td>59.980391</td>\n    </tr>\n    <tr>\n      <th>45</th>\n      <td>way/181423909</td>\n      <td>Дом садовника Бука музей</td>\n      <td>House of Gardener Buk Museum</td>\n      <td>[]</td>\n      <td>30.267360</td>\n      <td>59.981235</td>\n    </tr>\n    <tr>\n      <th>46</th>\n      <td>way/181423910</td>\n      <td>Кавалерский корпус музей</td>\n      <td>Cavalier Corps Museum</td>\n      <td>[]</td>\n      <td>30.263574</td>\n      <td>59.980771</td>\n    </tr>\n    <tr>\n      <th>47</th>\n      <td>way/181423911</td>\n      <td>Каменные кладовые музей</td>\n      <td>Stone pantry museum</td>\n      <td>[]</td>\n      <td>30.263563</td>\n      <td>59.980321</td>\n    </tr>\n    <tr>\n      <th>48</th>\n      <td>way/191723415</td>\n      <td>Прокат финских саней спортивный центр Спорт, к...</td>\n      <td>Finnish sled rent sports center Sports, skating</td>\n      <td>[348844899022089]</td>\n      <td>30.249427</td>\n      <td>59.980764</td>\n    </tr>\n    <tr>\n      <th>49</th>\n      <td>way/699822919</td>\n      <td>База проката лодок и катамаранов удобство, про...</td>\n      <td>Base of rolled boats and catamarans convenienc...</td>\n      <td>[]</td>\n      <td>30.264222</td>\n      <td>59.977009</td>\n    </tr>\n    <tr>\n      <th>50</th>\n      <td>way/717881701</td>\n      <td>Елагин дворец Елагинский дворец</td>\n      <td>Yelagin Palace</td>\n      <td>[409442830, 512235225]</td>\n      <td>30.270053</td>\n      <td>59.979333</td>\n    </tr>\n    <tr>\n      <th>51</th>\n      <td>way/717885288</td>\n      <td>Эстрадный театр Удобство, театр Театр, открыты...</td>\n      <td>Variety Theater convenience, theater theater, ...</td>\n      <td>[315983638957570, 173249823604802]</td>\n      <td>30.257759</td>\n      <td>59.980390</td>\n    </tr>\n    <tr>\n      <th>52</th>\n      <td>way/736544124</td>\n      <td>колоннада</td>\n      <td>in a column</td>\n      <td>[]</td>\n      <td>30.265104</td>\n      <td>59.979845</td>\n    </tr>\n    <tr>\n      <th>53</th>\n      <td>way/960193788</td>\n      <td>Спорт, тренировка</td>\n      <td>Sports, training</td>\n      <td>[569761120142629]</td>\n      <td>30.246373</td>\n      <td>59.979251</td>\n    </tr>\n    <tr>\n      <th>54</th>\n      <td>way/111423056</td>\n      <td>Сезонный обезьянник</td>\n      <td>Seasonal monkey</td>\n      <td>[]</td>\n      <td>30.255674</td>\n      <td>59.978302</td>\n    </tr>\n    <tr>\n      <th>55</th>\n      <td>way/369563617</td>\n      <td>Елагин мост</td>\n      <td>Elagin Bridge</td>\n      <td>[]</td>\n      <td>30.271602</td>\n      <td>59.977485</td>\n    </tr>\n    <tr>\n      <th>56</th>\n      <td>way/78518204</td>\n      <td>Большая Невка</td>\n      <td>Big Nevka</td>\n      <td>[]</td>\n      <td>30.283732</td>\n      <td>59.982349</td>\n    </tr>\n  </tbody>\n</table>\n</div>"
     },
     "execution_count": 95,
     "metadata": {},
     "output_type": "execute_result"
    }
   ],
   "source": [
    "df_location_osm"
   ]
  },
  {
   "cell_type": "code",
   "execution_count": 96,
   "outputs": [],
   "source": [
    "df_location_inst[\"similar\"] = False"
   ],
   "metadata": {
    "collapsed": false,
    "ExecuteTime": {
     "start_time": "2023-05-01T00:46:13.589324Z",
     "end_time": "2023-05-01T00:46:13.613655Z"
    }
   }
  },
  {
   "cell_type": "code",
   "execution_count": 97,
   "metadata": {
    "ExecuteTime": {
     "start_time": "2023-05-01T00:46:13.604441Z",
     "end_time": "2023-05-01T00:46:13.627479Z"
    }
   },
   "outputs": [],
   "source": [
    "df_location_inst.drop_duplicates([\"info_en\"], inplace=True)"
   ]
  },
  {
   "cell_type": "code",
   "execution_count": 98,
   "outputs": [
    {
     "name": "stdout",
     "output_type": "stream",
     "text": [
      "0 sculpture material, tree old man work of art\n",
      "1 Museum of Art Glass\n",
      "\t 1.0 Museum of Art Glass\n",
      "2 statue lion work of art historical\n",
      "3 Summer cafe convenience\n",
      "4 Information, card size, site\n",
      "5 Natural, tree\n",
      "6 Statue work of art\n",
      "7 Western arrow Yelagin is a natural island, rock\n",
      "8 waterway, shut off gates\n",
      "9 Yelagin is convenience, cafe kitchen, Italian\n",
      "10 Medical center convenience, doctors Emergency Health situation, doctor\n",
      "11 First Cheburery convenience, fast food\n",
      "12 \"Historical Memorial Bust\"\n",
      "13 Convenience, bicycle parking bicycle parking, wall loops\n",
      "14 playground\n",
      "15 Shop, ticket\n",
      "16 Barrier, entrance\n",
      "17 Kitchen building museum\n",
      "18 Kirov Central Park\n",
      "\t 1.0000000000000002 Kirov Central Park\n",
      "19 Middle Nevka\n",
      "20 Yelagin island\n",
      "\t 0.5797386715376658 Tennis club \"Yelagin Island\"\n",
      "21 The stable building of the museum\n",
      "22 Eastern arrow\n",
      "23 Pavilion under the flag\n",
      "24 Musical pavilion\n",
      "25 Nature Monument \"Yelagin Island\" Natural Reserve\n",
      "26 Green beach\n",
      "27 Yelaginsky ponds\n",
      "28 Granite marina\n",
      "\t 0.5797386715376658 marina\n",
      "29 Orange case\n",
      "30 Large area in winter is a sport rink\n",
      "31 Oil meadow\n",
      "32 Island convenience, cafe\n",
      "33 Freilin Corps Museum\n",
      "34 Note convenience, cafe\n",
      "35 The Gaupvakht pavilion that the building was burned in 1996.\n",
      "36 Zoo General Mini Zoo\n",
      "37 Valier with crows\n",
      "38 Sports Center Sports, tennis\n",
      "39 Rainbow convenience, cafe\n",
      "40 Open scene\n",
      "41 Sports Center Sports Sports Sports, Multi\n",
      "42 Sport, volleyball\n",
      "43 table tennis\n",
      "44 Rollerdrome Sports, Roller skating\n",
      "45 House of Gardener Buk Museum\n",
      "46 Cavalier Corps Museum\n",
      "47 Stone pantry museum\n",
      "48 Finnish sled rent sports center Sports, skating\n",
      "49 Base of rolled boats and catamarans convenience, rental of boats\n",
      "50 Yelagin Palace\n",
      "\t 1.0000000000000002 Yelagin Palace\n",
      "51 Variety Theater convenience, theater theater, open air\n",
      "\t 0.708747737263546 Variety Theater\n",
      "52 in a column\n",
      "53 Sports, training\n",
      "54 Seasonal monkey\n",
      "55 Elagin Bridge\n",
      "\t 0.7092972666062739 2nd Elagin Bridge\n",
      "56 Big Nevka\n"
     ]
    }
   ],
   "source": [
    "vectorizer = TfidfVectorizer()\n",
    "\n",
    "for i, info_loc in enumerate(df_location_osm[\"info_en\"].to_list()):\n",
    "    print(i, info_loc)\n",
    "    for loc_inst in df_location_inst.to_records():\n",
    "        ind = loc_inst[0]\n",
    "        info_loc_text = loc_inst[5]\n",
    "        X = vectorizer.fit_transform([info_loc, info_loc_text])\n",
    "        arr = X.toarray()\n",
    "        sim = cosine_similarity(arr)[0][1]\n",
    "        if sim > 0.4:\n",
    "            print(\"\\t\", sim, info_loc_text)\n",
    "            df_location_inst.at[ind, 'similar'] = True\n"
   ],
   "metadata": {
    "collapsed": false,
    "ExecuteTime": {
     "start_time": "2023-05-01T00:46:14.478488Z",
     "end_time": "2023-05-01T00:46:17.461230Z"
    }
   }
  },
  {
   "cell_type": "code",
   "execution_count": 101,
   "outputs": [],
   "source": [
    "df_location_inst.at[23, 'similar'] = True"
   ],
   "metadata": {
    "collapsed": false,
    "ExecuteTime": {
     "start_time": "2023-05-01T00:47:09.544528Z",
     "end_time": "2023-05-01T00:47:09.564392Z"
    }
   }
  },
  {
   "cell_type": "code",
   "execution_count": 103,
   "outputs": [
    {
     "data": {
      "text/plain": "             loc_id        lon        lat                       info  \\\n8         768634267  30.243987  59.980423         Norway Park Elagin   \n13  177634426498771  30.254245  59.981665           Набережная ЦПКиО   \n14  569761120142629  30.259785  59.976918      parkrun Елагин остров   \n17  364704557468064  30.266562  59.980119               Petshop Days   \n19  564635850627512  30.268188  59.979479               Усадьба Джаз   \n20  269241190453949  30.258695  59.976971        Фестиваль Тюльпанов   \n21  173249823604802  30.257181  59.979918  Фестиваль Уличных Театров   \n\n                        info_en  similar  \n8             Norva Park Elagin    False  \n13                   embankment    False  \n14                      Parkrun    False  \n17                 Petshop Days    False  \n19                   Manor Jazz    False  \n20               Tulip festival    False  \n21  Festival of street theaters    False  ",
      "text/html": "<div>\n<style scoped>\n    .dataframe tbody tr th:only-of-type {\n        vertical-align: middle;\n    }\n\n    .dataframe tbody tr th {\n        vertical-align: top;\n    }\n\n    .dataframe thead th {\n        text-align: right;\n    }\n</style>\n<table border=\"1\" class=\"dataframe\">\n  <thead>\n    <tr style=\"text-align: right;\">\n      <th></th>\n      <th>loc_id</th>\n      <th>lon</th>\n      <th>lat</th>\n      <th>info</th>\n      <th>info_en</th>\n      <th>similar</th>\n    </tr>\n  </thead>\n  <tbody>\n    <tr>\n      <th>8</th>\n      <td>768634267</td>\n      <td>30.243987</td>\n      <td>59.980423</td>\n      <td>Norway Park Elagin</td>\n      <td>Norva Park Elagin</td>\n      <td>False</td>\n    </tr>\n    <tr>\n      <th>13</th>\n      <td>177634426498771</td>\n      <td>30.254245</td>\n      <td>59.981665</td>\n      <td>Набережная ЦПКиО</td>\n      <td>embankment</td>\n      <td>False</td>\n    </tr>\n    <tr>\n      <th>14</th>\n      <td>569761120142629</td>\n      <td>30.259785</td>\n      <td>59.976918</td>\n      <td>parkrun Елагин остров</td>\n      <td>Parkrun</td>\n      <td>False</td>\n    </tr>\n    <tr>\n      <th>17</th>\n      <td>364704557468064</td>\n      <td>30.266562</td>\n      <td>59.980119</td>\n      <td>Petshop Days</td>\n      <td>Petshop Days</td>\n      <td>False</td>\n    </tr>\n    <tr>\n      <th>19</th>\n      <td>564635850627512</td>\n      <td>30.268188</td>\n      <td>59.979479</td>\n      <td>Усадьба Джаз</td>\n      <td>Manor Jazz</td>\n      <td>False</td>\n    </tr>\n    <tr>\n      <th>20</th>\n      <td>269241190453949</td>\n      <td>30.258695</td>\n      <td>59.976971</td>\n      <td>Фестиваль Тюльпанов</td>\n      <td>Tulip festival</td>\n      <td>False</td>\n    </tr>\n    <tr>\n      <th>21</th>\n      <td>173249823604802</td>\n      <td>30.257181</td>\n      <td>59.979918</td>\n      <td>Фестиваль Уличных Театров</td>\n      <td>Festival of street theaters</td>\n      <td>False</td>\n    </tr>\n  </tbody>\n</table>\n</div>"
     },
     "execution_count": 103,
     "metadata": {},
     "output_type": "execute_result"
    }
   ],
   "source": [
    "df_location_inst[~df_location_inst[\"similar\"]]"
   ],
   "metadata": {
    "collapsed": false,
    "ExecuteTime": {
     "start_time": "2023-05-01T00:48:07.260100Z",
     "end_time": "2023-05-01T00:48:07.306798Z"
    }
   }
  },
  {
   "cell_type": "code",
   "execution_count": 106,
   "outputs": [],
   "source": [
    "df_location_inst[\"instagram_location\"] = df_location_inst[\"loc_id\"].map(lambda x: [x])"
   ],
   "metadata": {
    "collapsed": false,
    "ExecuteTime": {
     "start_time": "2023-05-01T00:51:59.755724Z",
     "end_time": "2023-05-01T00:51:59.796089Z"
    }
   }
  },
  {
   "cell_type": "code",
   "execution_count": 104,
   "outputs": [
    {
     "data": {
      "text/plain": "                   id                                               info  \\\n0     node/1269595927  скульптура Материал, дерево Старик произведени...   \n1     node/2181181342                       Музей художественного стекла   \n2     node/3761709953     статуя Лев произведение искусства Исторический   \n3     node/3761709956                               Летнее кафе Удобство   \n4     node/6742144166               информация, карта размер карты, сайт   \n5     node/6750344125                               естественный, дерево   \n6     node/6905536550                      статуя произведение искусства   \n7      node/300951745  Западная стрелка Елагина острова естественный,...   \n8     node/1157617458                       водный путь, запорные ворота   \n9     node/2022962538      На Елагином Удобство, кафе Кухня, итальянская   \n10    node/2023035096  Медпункт Удобство, врачи Чрезвычайная ситуация...   \n11    node/4353795089              Первая чебуречная удобство, фаст -фуд   \n12    node/4353822789                              Исторический мемориал   \n13    node/5682734721  удобство, велосипедная парковка Велосипедная п...   \n14    node/6067907985                                   детская площадка   \n15    node/6784849750                                     Магазин, билет   \n16    node/6896052609                                       Барьер, вход   \n17   relation/1444351                              Кухонный корпус музей   \n18   relation/1445800  Центральный парк культуры и отдыха имени С. М....   \n19   relation/1576175                                      Средняя Невка   \n20   relation/1576343                                      Елагин остров   \n21   relation/2420060                            Конюшенный корпус музей   \n22   relation/2590123                                  Восточная стрелка   \n23   relation/2590124                                Павильон под флагом   \n24   relation/2618604                               Музыкальный павильон   \n25   relation/2965059  памятник природы «Елагин остров» природный зап...   \n26   relation/3290102                                       Зелёный пляж   \n27   relation/8613894                                   Елагинские пруды   \n28  relation/12316492                                 Гранитная пристань   \n29       way/23150126                                Оранжерейный корпус   \n30       way/98992606  Большая площадь Зимой это каток Спорт, мульти ...   \n31      way/100146903                                       Масляный луг   \n32      way/100816815                              Остров Удобство, кафе   \n33      way/100820382                           Фрейлинский корпус музей   \n34      way/100821442                                Нота Удобство, кафе   \n35      way/100822197  Павильон «Гаупвахта» что здание было сгорел в ...   \n36      way/101337196                         зоопарк общий Мини зоопарк   \n37      way/101377779                                  Вальер с воронами   \n38      way/101500088                     спортивный центр Спорт, теннис   \n39      way/110109811                              Радуга Удобство, кафе   \n40      way/111429666                                     Открытая сцена   \n41      way/111636419  спортивный центр Прокат спорт инвентаря Спорт,...   \n42      way/119581892                                    Спорт, волейбол   \n43      way/144643400  Каток с искуственным льдом спорт, настольный т...   \n44      way/144643402               Роллердром Спорт, катание на роликах   \n45      way/181423909                           Дом садовника Бука музей   \n46      way/181423910                           Кавалерский корпус музей   \n47      way/181423911                            Каменные кладовые музей   \n48      way/191723415  Прокат финских саней спортивный центр Спорт, к...   \n49      way/699822919  База проката лодок и катамаранов удобство, про...   \n50      way/717881701                    Елагин дворец Елагинский дворец   \n51      way/717885288  Эстрадный театр Удобство, театр Театр, открыты...   \n52      way/736544124                                          колоннада   \n53      way/960193788                                  Спорт, тренировка   \n54      way/111423056                                Сезонный обезьянник   \n55      way/369563617                                        Елагин мост   \n56       way/78518204                                      Большая Невка   \n\n                                              info_en  \\\n0        sculpture material, tree old man work of art   \n1                                 Museum of Art Glass   \n2                  statue lion work of art historical   \n3                             Summer cafe convenience   \n4                        Information, card size, site   \n5                                       Natural, tree   \n6                                  Statue work of art   \n7     Western arrow Yelagin is a natural island, rock   \n8                            waterway, shut off gates   \n9       Yelagin is convenience, cafe kitchen, Italian   \n10  Medical center convenience, doctors Emergency ...   \n11             First Cheburery convenience, fast food   \n12                         \"Historical Memorial Bust\"   \n13  Convenience, bicycle parking bicycle parking, ...   \n14                                         playground   \n15                                       Shop, ticket   \n16                                  Barrier, entrance   \n17                            Kitchen building museum   \n18                                 Kirov Central Park   \n19                                       Middle Nevka   \n20                                     Yelagin island   \n21                  The stable building of the museum   \n22                                      Eastern arrow   \n23                            Pavilion under the flag   \n24                                   Musical pavilion   \n25   Nature Monument \"Yelagin Island\" Natural Reserve   \n26                                        Green beach   \n27                                   Yelaginsky ponds   \n28                                     Granite marina   \n29                                        Orange case   \n30               Large area in winter is a sport rink   \n31                                         Oil meadow   \n32                           Island convenience, cafe   \n33                               Freilin Corps Museum   \n34                             Note convenience, cafe   \n35  The Gaupvakht pavilion that the building was b...   \n36                               Zoo General Mini Zoo   \n37                                  Valier with crows   \n38                       Sports Center Sports, tennis   \n39                          Rainbow convenience, cafe   \n40                                         Open scene   \n41          Sports Center Sports Sports Sports, Multi   \n42                                  Sport, volleyball   \n43                                       table tennis   \n44                 Rollerdrome Sports, Roller skating   \n45                       House of Gardener Buk Museum   \n46                              Cavalier Corps Museum   \n47                                Stone pantry museum   \n48    Finnish sled rent sports center Sports, skating   \n49  Base of rolled boats and catamarans convenienc...   \n50                                     Yelagin Palace   \n51  Variety Theater convenience, theater theater, ...   \n52                                        in a column   \n53                                   Sports, training   \n54                                    Seasonal monkey   \n55                                      Elagin Bridge   \n56                                          Big Nevka   \n\n                                   instagram_location        lon        lat  \n0                                                  []  30.268740  59.978465  \n1                                         [282917579]  30.268557  59.980350  \n2                                                  []  30.269520  59.979386  \n3                                                  []  30.269979  59.977516  \n4                                                  []  30.269894  59.977468  \n5                                                  []  30.271168  59.979579  \n6                                                  []  30.269010  59.979954  \n7                                                  []  30.236411  59.980255  \n8                                                  []  30.271302  59.981290  \n9                                                  []  30.265328  59.980026  \n10                                                 []  30.263528  59.980340  \n11                                                 []  30.253777  59.979234  \n12                                                 []  30.258033  59.976481  \n13                                                 []  30.263654  59.980817  \n14                                                 []  30.245273  59.980215  \n15                                                 []  30.264678  59.977033  \n16                                                 []  30.260557  59.977609  \n17                                                 []  30.268534  59.979840  \n18  [222700471, 863526681, 41686281, 1021905073, 2...  30.257827  59.979013  \n19                                                 []  30.267030  59.975651  \n20  [1013575390, 222700471, 2155261351463141, 5549...  30.257827  59.979013  \n21                                                 []  30.265079  59.980087  \n22                                                 []  30.273540  59.980717  \n23                                                 []  30.273254  59.980666  \n24                                                 []  30.268612  59.976662  \n25  [1013575390, 222700471, 2155261351463141, 5549...  30.257797  59.978986  \n26                                                 []  30.246706  59.978855  \n27                                                 []  59.980697  30.241434  \n28                                 [1025264561000150]  30.273766  59.980755  \n29                                                 []  30.268405  59.980285  \n30                                  [348844899022089]  30.266350  59.980854  \n31                 [364704557468064, 269241190453949]  30.267399  59.979642  \n32                                                 []  30.260452  59.977774  \n33                                                 []  30.262655  59.980286  \n34                                                 []  30.254247  59.980753  \n35                                                 []  30.269549  59.977455  \n36                                                 []  30.246859  59.979995  \n37                                                 []  30.260362  59.977539  \n38                                  [331443764105508]  30.261149  59.981844  \n39                                                 []  30.255468  59.977510  \n40                                  [564635850627512]  30.266385  59.981079  \n41                                  [569761120142629]  30.265017  59.980751  \n42                                  [569761120142629]  30.259362  59.981493  \n43                 [348844899022089, 331443764105508]  30.253425  59.980275  \n44                                                 []  30.252830  59.980391  \n45                                                 []  30.267360  59.981235  \n46                                                 []  30.263574  59.980771  \n47                                                 []  30.263563  59.980321  \n48                                  [348844899022089]  30.249427  59.980764  \n49                                                 []  30.264222  59.977009  \n50                             [409442830, 512235225]  30.270053  59.979333  \n51                 [315983638957570, 173249823604802]  30.257759  59.980390  \n52                                                 []  30.265104  59.979845  \n53                                  [569761120142629]  30.246373  59.979251  \n54                                                 []  30.255674  59.978302  \n55                                                 []  30.271602  59.977485  \n56                                                 []  30.283732  59.982349  ",
      "text/html": "<div>\n<style scoped>\n    .dataframe tbody tr th:only-of-type {\n        vertical-align: middle;\n    }\n\n    .dataframe tbody tr th {\n        vertical-align: top;\n    }\n\n    .dataframe thead th {\n        text-align: right;\n    }\n</style>\n<table border=\"1\" class=\"dataframe\">\n  <thead>\n    <tr style=\"text-align: right;\">\n      <th></th>\n      <th>id</th>\n      <th>info</th>\n      <th>info_en</th>\n      <th>instagram_location</th>\n      <th>lon</th>\n      <th>lat</th>\n    </tr>\n  </thead>\n  <tbody>\n    <tr>\n      <th>0</th>\n      <td>node/1269595927</td>\n      <td>скульптура Материал, дерево Старик произведени...</td>\n      <td>sculpture material, tree old man work of art</td>\n      <td>[]</td>\n      <td>30.268740</td>\n      <td>59.978465</td>\n    </tr>\n    <tr>\n      <th>1</th>\n      <td>node/2181181342</td>\n      <td>Музей художественного стекла</td>\n      <td>Museum of Art Glass</td>\n      <td>[282917579]</td>\n      <td>30.268557</td>\n      <td>59.980350</td>\n    </tr>\n    <tr>\n      <th>2</th>\n      <td>node/3761709953</td>\n      <td>статуя Лев произведение искусства Исторический</td>\n      <td>statue lion work of art historical</td>\n      <td>[]</td>\n      <td>30.269520</td>\n      <td>59.979386</td>\n    </tr>\n    <tr>\n      <th>3</th>\n      <td>node/3761709956</td>\n      <td>Летнее кафе Удобство</td>\n      <td>Summer cafe convenience</td>\n      <td>[]</td>\n      <td>30.269979</td>\n      <td>59.977516</td>\n    </tr>\n    <tr>\n      <th>4</th>\n      <td>node/6742144166</td>\n      <td>информация, карта размер карты, сайт</td>\n      <td>Information, card size, site</td>\n      <td>[]</td>\n      <td>30.269894</td>\n      <td>59.977468</td>\n    </tr>\n    <tr>\n      <th>5</th>\n      <td>node/6750344125</td>\n      <td>естественный, дерево</td>\n      <td>Natural, tree</td>\n      <td>[]</td>\n      <td>30.271168</td>\n      <td>59.979579</td>\n    </tr>\n    <tr>\n      <th>6</th>\n      <td>node/6905536550</td>\n      <td>статуя произведение искусства</td>\n      <td>Statue work of art</td>\n      <td>[]</td>\n      <td>30.269010</td>\n      <td>59.979954</td>\n    </tr>\n    <tr>\n      <th>7</th>\n      <td>node/300951745</td>\n      <td>Западная стрелка Елагина острова естественный,...</td>\n      <td>Western arrow Yelagin is a natural island, rock</td>\n      <td>[]</td>\n      <td>30.236411</td>\n      <td>59.980255</td>\n    </tr>\n    <tr>\n      <th>8</th>\n      <td>node/1157617458</td>\n      <td>водный путь, запорные ворота</td>\n      <td>waterway, shut off gates</td>\n      <td>[]</td>\n      <td>30.271302</td>\n      <td>59.981290</td>\n    </tr>\n    <tr>\n      <th>9</th>\n      <td>node/2022962538</td>\n      <td>На Елагином Удобство, кафе Кухня, итальянская</td>\n      <td>Yelagin is convenience, cafe kitchen, Italian</td>\n      <td>[]</td>\n      <td>30.265328</td>\n      <td>59.980026</td>\n    </tr>\n    <tr>\n      <th>10</th>\n      <td>node/2023035096</td>\n      <td>Медпункт Удобство, врачи Чрезвычайная ситуация...</td>\n      <td>Medical center convenience, doctors Emergency ...</td>\n      <td>[]</td>\n      <td>30.263528</td>\n      <td>59.980340</td>\n    </tr>\n    <tr>\n      <th>11</th>\n      <td>node/4353795089</td>\n      <td>Первая чебуречная удобство, фаст -фуд</td>\n      <td>First Cheburery convenience, fast food</td>\n      <td>[]</td>\n      <td>30.253777</td>\n      <td>59.979234</td>\n    </tr>\n    <tr>\n      <th>12</th>\n      <td>node/4353822789</td>\n      <td>Исторический мемориал</td>\n      <td>\"Historical Memorial Bust\"</td>\n      <td>[]</td>\n      <td>30.258033</td>\n      <td>59.976481</td>\n    </tr>\n    <tr>\n      <th>13</th>\n      <td>node/5682734721</td>\n      <td>удобство, велосипедная парковка Велосипедная п...</td>\n      <td>Convenience, bicycle parking bicycle parking, ...</td>\n      <td>[]</td>\n      <td>30.263654</td>\n      <td>59.980817</td>\n    </tr>\n    <tr>\n      <th>14</th>\n      <td>node/6067907985</td>\n      <td>детская площадка</td>\n      <td>playground</td>\n      <td>[]</td>\n      <td>30.245273</td>\n      <td>59.980215</td>\n    </tr>\n    <tr>\n      <th>15</th>\n      <td>node/6784849750</td>\n      <td>Магазин, билет</td>\n      <td>Shop, ticket</td>\n      <td>[]</td>\n      <td>30.264678</td>\n      <td>59.977033</td>\n    </tr>\n    <tr>\n      <th>16</th>\n      <td>node/6896052609</td>\n      <td>Барьер, вход</td>\n      <td>Barrier, entrance</td>\n      <td>[]</td>\n      <td>30.260557</td>\n      <td>59.977609</td>\n    </tr>\n    <tr>\n      <th>17</th>\n      <td>relation/1444351</td>\n      <td>Кухонный корпус музей</td>\n      <td>Kitchen building museum</td>\n      <td>[]</td>\n      <td>30.268534</td>\n      <td>59.979840</td>\n    </tr>\n    <tr>\n      <th>18</th>\n      <td>relation/1445800</td>\n      <td>Центральный парк культуры и отдыха имени С. М....</td>\n      <td>Kirov Central Park</td>\n      <td>[222700471, 863526681, 41686281, 1021905073, 2...</td>\n      <td>30.257827</td>\n      <td>59.979013</td>\n    </tr>\n    <tr>\n      <th>19</th>\n      <td>relation/1576175</td>\n      <td>Средняя Невка</td>\n      <td>Middle Nevka</td>\n      <td>[]</td>\n      <td>30.267030</td>\n      <td>59.975651</td>\n    </tr>\n    <tr>\n      <th>20</th>\n      <td>relation/1576343</td>\n      <td>Елагин остров</td>\n      <td>Yelagin island</td>\n      <td>[1013575390, 222700471, 2155261351463141, 5549...</td>\n      <td>30.257827</td>\n      <td>59.979013</td>\n    </tr>\n    <tr>\n      <th>21</th>\n      <td>relation/2420060</td>\n      <td>Конюшенный корпус музей</td>\n      <td>The stable building of the museum</td>\n      <td>[]</td>\n      <td>30.265079</td>\n      <td>59.980087</td>\n    </tr>\n    <tr>\n      <th>22</th>\n      <td>relation/2590123</td>\n      <td>Восточная стрелка</td>\n      <td>Eastern arrow</td>\n      <td>[]</td>\n      <td>30.273540</td>\n      <td>59.980717</td>\n    </tr>\n    <tr>\n      <th>23</th>\n      <td>relation/2590124</td>\n      <td>Павильон под флагом</td>\n      <td>Pavilion under the flag</td>\n      <td>[]</td>\n      <td>30.273254</td>\n      <td>59.980666</td>\n    </tr>\n    <tr>\n      <th>24</th>\n      <td>relation/2618604</td>\n      <td>Музыкальный павильон</td>\n      <td>Musical pavilion</td>\n      <td>[]</td>\n      <td>30.268612</td>\n      <td>59.976662</td>\n    </tr>\n    <tr>\n      <th>25</th>\n      <td>relation/2965059</td>\n      <td>памятник природы «Елагин остров» природный зап...</td>\n      <td>Nature Monument \"Yelagin Island\" Natural Reserve</td>\n      <td>[1013575390, 222700471, 2155261351463141, 5549...</td>\n      <td>30.257797</td>\n      <td>59.978986</td>\n    </tr>\n    <tr>\n      <th>26</th>\n      <td>relation/3290102</td>\n      <td>Зелёный пляж</td>\n      <td>Green beach</td>\n      <td>[]</td>\n      <td>30.246706</td>\n      <td>59.978855</td>\n    </tr>\n    <tr>\n      <th>27</th>\n      <td>relation/8613894</td>\n      <td>Елагинские пруды</td>\n      <td>Yelaginsky ponds</td>\n      <td>[]</td>\n      <td>59.980697</td>\n      <td>30.241434</td>\n    </tr>\n    <tr>\n      <th>28</th>\n      <td>relation/12316492</td>\n      <td>Гранитная пристань</td>\n      <td>Granite marina</td>\n      <td>[1025264561000150]</td>\n      <td>30.273766</td>\n      <td>59.980755</td>\n    </tr>\n    <tr>\n      <th>29</th>\n      <td>way/23150126</td>\n      <td>Оранжерейный корпус</td>\n      <td>Orange case</td>\n      <td>[]</td>\n      <td>30.268405</td>\n      <td>59.980285</td>\n    </tr>\n    <tr>\n      <th>30</th>\n      <td>way/98992606</td>\n      <td>Большая площадь Зимой это каток Спорт, мульти ...</td>\n      <td>Large area in winter is a sport rink</td>\n      <td>[348844899022089]</td>\n      <td>30.266350</td>\n      <td>59.980854</td>\n    </tr>\n    <tr>\n      <th>31</th>\n      <td>way/100146903</td>\n      <td>Масляный луг</td>\n      <td>Oil meadow</td>\n      <td>[364704557468064, 269241190453949]</td>\n      <td>30.267399</td>\n      <td>59.979642</td>\n    </tr>\n    <tr>\n      <th>32</th>\n      <td>way/100816815</td>\n      <td>Остров Удобство, кафе</td>\n      <td>Island convenience, cafe</td>\n      <td>[]</td>\n      <td>30.260452</td>\n      <td>59.977774</td>\n    </tr>\n    <tr>\n      <th>33</th>\n      <td>way/100820382</td>\n      <td>Фрейлинский корпус музей</td>\n      <td>Freilin Corps Museum</td>\n      <td>[]</td>\n      <td>30.262655</td>\n      <td>59.980286</td>\n    </tr>\n    <tr>\n      <th>34</th>\n      <td>way/100821442</td>\n      <td>Нота Удобство, кафе</td>\n      <td>Note convenience, cafe</td>\n      <td>[]</td>\n      <td>30.254247</td>\n      <td>59.980753</td>\n    </tr>\n    <tr>\n      <th>35</th>\n      <td>way/100822197</td>\n      <td>Павильон «Гаупвахта» что здание было сгорел в ...</td>\n      <td>The Gaupvakht pavilion that the building was b...</td>\n      <td>[]</td>\n      <td>30.269549</td>\n      <td>59.977455</td>\n    </tr>\n    <tr>\n      <th>36</th>\n      <td>way/101337196</td>\n      <td>зоопарк общий Мини зоопарк</td>\n      <td>Zoo General Mini Zoo</td>\n      <td>[]</td>\n      <td>30.246859</td>\n      <td>59.979995</td>\n    </tr>\n    <tr>\n      <th>37</th>\n      <td>way/101377779</td>\n      <td>Вальер с воронами</td>\n      <td>Valier with crows</td>\n      <td>[]</td>\n      <td>30.260362</td>\n      <td>59.977539</td>\n    </tr>\n    <tr>\n      <th>38</th>\n      <td>way/101500088</td>\n      <td>спортивный центр Спорт, теннис</td>\n      <td>Sports Center Sports, tennis</td>\n      <td>[331443764105508]</td>\n      <td>30.261149</td>\n      <td>59.981844</td>\n    </tr>\n    <tr>\n      <th>39</th>\n      <td>way/110109811</td>\n      <td>Радуга Удобство, кафе</td>\n      <td>Rainbow convenience, cafe</td>\n      <td>[]</td>\n      <td>30.255468</td>\n      <td>59.977510</td>\n    </tr>\n    <tr>\n      <th>40</th>\n      <td>way/111429666</td>\n      <td>Открытая сцена</td>\n      <td>Open scene</td>\n      <td>[564635850627512]</td>\n      <td>30.266385</td>\n      <td>59.981079</td>\n    </tr>\n    <tr>\n      <th>41</th>\n      <td>way/111636419</td>\n      <td>спортивный центр Прокат спорт инвентаря Спорт,...</td>\n      <td>Sports Center Sports Sports Sports, Multi</td>\n      <td>[569761120142629]</td>\n      <td>30.265017</td>\n      <td>59.980751</td>\n    </tr>\n    <tr>\n      <th>42</th>\n      <td>way/119581892</td>\n      <td>Спорт, волейбол</td>\n      <td>Sport, volleyball</td>\n      <td>[569761120142629]</td>\n      <td>30.259362</td>\n      <td>59.981493</td>\n    </tr>\n    <tr>\n      <th>43</th>\n      <td>way/144643400</td>\n      <td>Каток с искуственным льдом спорт, настольный т...</td>\n      <td>table tennis</td>\n      <td>[348844899022089, 331443764105508]</td>\n      <td>30.253425</td>\n      <td>59.980275</td>\n    </tr>\n    <tr>\n      <th>44</th>\n      <td>way/144643402</td>\n      <td>Роллердром Спорт, катание на роликах</td>\n      <td>Rollerdrome Sports, Roller skating</td>\n      <td>[]</td>\n      <td>30.252830</td>\n      <td>59.980391</td>\n    </tr>\n    <tr>\n      <th>45</th>\n      <td>way/181423909</td>\n      <td>Дом садовника Бука музей</td>\n      <td>House of Gardener Buk Museum</td>\n      <td>[]</td>\n      <td>30.267360</td>\n      <td>59.981235</td>\n    </tr>\n    <tr>\n      <th>46</th>\n      <td>way/181423910</td>\n      <td>Кавалерский корпус музей</td>\n      <td>Cavalier Corps Museum</td>\n      <td>[]</td>\n      <td>30.263574</td>\n      <td>59.980771</td>\n    </tr>\n    <tr>\n      <th>47</th>\n      <td>way/181423911</td>\n      <td>Каменные кладовые музей</td>\n      <td>Stone pantry museum</td>\n      <td>[]</td>\n      <td>30.263563</td>\n      <td>59.980321</td>\n    </tr>\n    <tr>\n      <th>48</th>\n      <td>way/191723415</td>\n      <td>Прокат финских саней спортивный центр Спорт, к...</td>\n      <td>Finnish sled rent sports center Sports, skating</td>\n      <td>[348844899022089]</td>\n      <td>30.249427</td>\n      <td>59.980764</td>\n    </tr>\n    <tr>\n      <th>49</th>\n      <td>way/699822919</td>\n      <td>База проката лодок и катамаранов удобство, про...</td>\n      <td>Base of rolled boats and catamarans convenienc...</td>\n      <td>[]</td>\n      <td>30.264222</td>\n      <td>59.977009</td>\n    </tr>\n    <tr>\n      <th>50</th>\n      <td>way/717881701</td>\n      <td>Елагин дворец Елагинский дворец</td>\n      <td>Yelagin Palace</td>\n      <td>[409442830, 512235225]</td>\n      <td>30.270053</td>\n      <td>59.979333</td>\n    </tr>\n    <tr>\n      <th>51</th>\n      <td>way/717885288</td>\n      <td>Эстрадный театр Удобство, театр Театр, открыты...</td>\n      <td>Variety Theater convenience, theater theater, ...</td>\n      <td>[315983638957570, 173249823604802]</td>\n      <td>30.257759</td>\n      <td>59.980390</td>\n    </tr>\n    <tr>\n      <th>52</th>\n      <td>way/736544124</td>\n      <td>колоннада</td>\n      <td>in a column</td>\n      <td>[]</td>\n      <td>30.265104</td>\n      <td>59.979845</td>\n    </tr>\n    <tr>\n      <th>53</th>\n      <td>way/960193788</td>\n      <td>Спорт, тренировка</td>\n      <td>Sports, training</td>\n      <td>[569761120142629]</td>\n      <td>30.246373</td>\n      <td>59.979251</td>\n    </tr>\n    <tr>\n      <th>54</th>\n      <td>way/111423056</td>\n      <td>Сезонный обезьянник</td>\n      <td>Seasonal monkey</td>\n      <td>[]</td>\n      <td>30.255674</td>\n      <td>59.978302</td>\n    </tr>\n    <tr>\n      <th>55</th>\n      <td>way/369563617</td>\n      <td>Елагин мост</td>\n      <td>Elagin Bridge</td>\n      <td>[]</td>\n      <td>30.271602</td>\n      <td>59.977485</td>\n    </tr>\n    <tr>\n      <th>56</th>\n      <td>way/78518204</td>\n      <td>Большая Невка</td>\n      <td>Big Nevka</td>\n      <td>[]</td>\n      <td>30.283732</td>\n      <td>59.982349</td>\n    </tr>\n  </tbody>\n</table>\n</div>"
     },
     "execution_count": 104,
     "metadata": {},
     "output_type": "execute_result"
    }
   ],
   "source": [
    "df_location_osm"
   ],
   "metadata": {
    "collapsed": false,
    "ExecuteTime": {
     "start_time": "2023-05-01T00:49:58.538464Z",
     "end_time": "2023-05-01T00:49:58.588735Z"
    }
   }
  },
  {
   "cell_type": "code",
   "execution_count": 108,
   "outputs": [],
   "source": [
    "df_full_loc = pd.concat([df_location_osm, df_location_inst[~df_location_inst[\"similar\"]].rename({\"loc_id\": \"id\"}, axis=1)[[\"id\", \"lat\", \"lon\", \"info\", \"info_en\", \"instagram_location\"]]])"
   ],
   "metadata": {
    "collapsed": false,
    "ExecuteTime": {
     "start_time": "2023-05-01T00:53:34.735353Z",
     "end_time": "2023-05-01T00:53:34.756361Z"
    }
   }
  },
  {
   "cell_type": "code",
   "execution_count": 109,
   "outputs": [
    {
     "data": {
      "text/plain": "                 id                                               info  \\\n0   node/1269595927  скульптура Материал, дерево Старик произведени...   \n1   node/2181181342                       Музей художественного стекла   \n2   node/3761709953     статуя Лев произведение искусства Исторический   \n3   node/3761709956                               Летнее кафе Удобство   \n4   node/6742144166               информация, карта размер карты, сайт   \n..              ...                                                ...   \n14  569761120142629                              parkrun Елагин остров   \n17  364704557468064                                       Petshop Days   \n19  564635850627512                                       Усадьба Джаз   \n20  269241190453949                                Фестиваль Тюльпанов   \n21  173249823604802                          Фестиваль Уличных Театров   \n\n                                         info_en instagram_location  \\\n0   sculpture material, tree old man work of art                 []   \n1                            Museum of Art Glass        [282917579]   \n2             statue lion work of art historical                 []   \n3                        Summer cafe convenience                 []   \n4                   Information, card size, site                 []   \n..                                           ...                ...   \n14                                       Parkrun  [569761120142629]   \n17                                  Petshop Days  [364704557468064]   \n19                                    Manor Jazz  [564635850627512]   \n20                                Tulip festival  [269241190453949]   \n21                   Festival of street theaters  [173249823604802]   \n\n          lon        lat  \n0   30.268740  59.978465  \n1   30.268557  59.980350  \n2   30.269520  59.979386  \n3   30.269979  59.977516  \n4   30.269894  59.977468  \n..        ...        ...  \n14  30.259785  59.976918  \n17  30.266562  59.980119  \n19  30.268188  59.979479  \n20  30.258695  59.976971  \n21  30.257181  59.979918  \n\n[64 rows x 6 columns]",
      "text/html": "<div>\n<style scoped>\n    .dataframe tbody tr th:only-of-type {\n        vertical-align: middle;\n    }\n\n    .dataframe tbody tr th {\n        vertical-align: top;\n    }\n\n    .dataframe thead th {\n        text-align: right;\n    }\n</style>\n<table border=\"1\" class=\"dataframe\">\n  <thead>\n    <tr style=\"text-align: right;\">\n      <th></th>\n      <th>id</th>\n      <th>info</th>\n      <th>info_en</th>\n      <th>instagram_location</th>\n      <th>lon</th>\n      <th>lat</th>\n    </tr>\n  </thead>\n  <tbody>\n    <tr>\n      <th>0</th>\n      <td>node/1269595927</td>\n      <td>скульптура Материал, дерево Старик произведени...</td>\n      <td>sculpture material, tree old man work of art</td>\n      <td>[]</td>\n      <td>30.268740</td>\n      <td>59.978465</td>\n    </tr>\n    <tr>\n      <th>1</th>\n      <td>node/2181181342</td>\n      <td>Музей художественного стекла</td>\n      <td>Museum of Art Glass</td>\n      <td>[282917579]</td>\n      <td>30.268557</td>\n      <td>59.980350</td>\n    </tr>\n    <tr>\n      <th>2</th>\n      <td>node/3761709953</td>\n      <td>статуя Лев произведение искусства Исторический</td>\n      <td>statue lion work of art historical</td>\n      <td>[]</td>\n      <td>30.269520</td>\n      <td>59.979386</td>\n    </tr>\n    <tr>\n      <th>3</th>\n      <td>node/3761709956</td>\n      <td>Летнее кафе Удобство</td>\n      <td>Summer cafe convenience</td>\n      <td>[]</td>\n      <td>30.269979</td>\n      <td>59.977516</td>\n    </tr>\n    <tr>\n      <th>4</th>\n      <td>node/6742144166</td>\n      <td>информация, карта размер карты, сайт</td>\n      <td>Information, card size, site</td>\n      <td>[]</td>\n      <td>30.269894</td>\n      <td>59.977468</td>\n    </tr>\n    <tr>\n      <th>...</th>\n      <td>...</td>\n      <td>...</td>\n      <td>...</td>\n      <td>...</td>\n      <td>...</td>\n      <td>...</td>\n    </tr>\n    <tr>\n      <th>14</th>\n      <td>569761120142629</td>\n      <td>parkrun Елагин остров</td>\n      <td>Parkrun</td>\n      <td>[569761120142629]</td>\n      <td>30.259785</td>\n      <td>59.976918</td>\n    </tr>\n    <tr>\n      <th>17</th>\n      <td>364704557468064</td>\n      <td>Petshop Days</td>\n      <td>Petshop Days</td>\n      <td>[364704557468064]</td>\n      <td>30.266562</td>\n      <td>59.980119</td>\n    </tr>\n    <tr>\n      <th>19</th>\n      <td>564635850627512</td>\n      <td>Усадьба Джаз</td>\n      <td>Manor Jazz</td>\n      <td>[564635850627512]</td>\n      <td>30.268188</td>\n      <td>59.979479</td>\n    </tr>\n    <tr>\n      <th>20</th>\n      <td>269241190453949</td>\n      <td>Фестиваль Тюльпанов</td>\n      <td>Tulip festival</td>\n      <td>[269241190453949]</td>\n      <td>30.258695</td>\n      <td>59.976971</td>\n    </tr>\n    <tr>\n      <th>21</th>\n      <td>173249823604802</td>\n      <td>Фестиваль Уличных Театров</td>\n      <td>Festival of street theaters</td>\n      <td>[173249823604802]</td>\n      <td>30.257181</td>\n      <td>59.979918</td>\n    </tr>\n  </tbody>\n</table>\n<p>64 rows × 6 columns</p>\n</div>"
     },
     "execution_count": 109,
     "metadata": {},
     "output_type": "execute_result"
    }
   ],
   "source": [
    "df_full_loc"
   ],
   "metadata": {
    "collapsed": false,
    "ExecuteTime": {
     "start_time": "2023-05-01T00:53:40.954490Z",
     "end_time": "2023-05-01T00:53:41.022316Z"
    }
   }
  },
  {
   "cell_type": "code",
   "execution_count": 110,
   "outputs": [],
   "source": [
    "df_full_loc.to_csv(\"../csv/locations/locations_full.csv\", index=False)"
   ],
   "metadata": {
    "collapsed": false,
    "ExecuteTime": {
     "start_time": "2023-05-01T00:54:36.421933Z",
     "end_time": "2023-05-01T00:54:36.436808Z"
    }
   }
  },
  {
   "cell_type": "code",
   "execution_count": null,
   "metadata": {},
   "outputs": [],
   "source": []
  }
 ],
 "metadata": {
  "kernelspec": {
   "display_name": "Python 3",
   "language": "python",
   "name": "python3"
  },
  "language_info": {
   "codemirror_mode": {
    "name": "ipython",
    "version": 3
   },
   "file_extension": ".py",
   "mimetype": "text/x-python",
   "name": "python",
   "nbconvert_exporter": "python",
   "pygments_lexer": "ipython3",
   "version": "3.8.8"
  }
 },
 "nbformat": 4,
 "nbformat_minor": 1
}
